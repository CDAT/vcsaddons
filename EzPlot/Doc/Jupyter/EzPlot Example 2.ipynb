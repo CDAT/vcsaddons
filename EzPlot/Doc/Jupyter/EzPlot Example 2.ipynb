{
 "cells": [
  {
   "cell_type": "code",
   "execution_count": 1,
   "metadata": {},
   "outputs": [],
   "source": [
    "import os\n",
    "import vcs\n",
    "import cdms2\n",
    "import vcsaddons.EzPlot\n",
    "import cdutil\n",
    "import math\n",
    "import random\n",
    "\n",
    "# Simple Plot with EzPlot\n",
    "\n",
    "if __name__ == \"__main__\":\n",
    "    \n",
    "    variables  = []\n",
    "    line_type  = []\n",
    "    line_widths = []\n",
    "    legend_texts = []\n",
    "    legend_text_colors = []\n",
    "    marker_type = []\n",
    "\n",
    "    for v in range(0, 20):\n",
    "        var = []\n",
    "        for i in range(0, 100):\n",
    "            if v%2 == 0:\n",
    "                #var.append(random.random() * v * math.sin(2*math.pi*float(i-v)/100.0))\n",
    "                var.append(v * math.sin(2*math.pi*float(i-v)/100.0))\n",
    "            else:\n",
    "                #var.append(random.random() * v * math.cos(2*math.pi*float(i-v)/100.0))\n",
    "                var.append(v * math.cos(2*math.pi*float(i-v)/100.0))\n",
    "        line_type += [\"solid\"]\n",
    "        line_widths += [5]\n",
    "        if i%2 == 0:\n",
    "            legend_texts += [\"Sin\"]\n",
    "        else:    \n",
    "            legend_texts += [\"Cos\"]\n",
    "        legend_text_colors += ['black']\n",
    "        marker_type += [None]\n",
    "        variables.append(var)\n",
    "    \n",
    "    plotfunction = vcsaddons.EzPlot.EzLinePlot()\n",
    "\n",
    "    canvas = vcs.init()\n",
    "    \n",
    "    plotfunction.lineplot(data=variables, canvas=canvas, title=\"Simple 2 EzLinePlot\", titlesize=30,\n",
    "                            #backgroundcolor=[0, 100, 0],\n",
    "                            linetypes=line_type, linewidths=line_widths,   \n",
    "                            legendposition=[0.25, 0.35, 0.30, 0.40], legendtextcolors=legend_text_colors, legendtexts=legend_texts,\n",
    "                            legendbackgroundcolor=\"yellow\",\n",
    "                            enablegrid=True)\n",
    "\n",
    "    canvas.png(\"EzPlot_Simple2\")\n",
    "    "
   ]
  },
  {
   "cell_type": "code",
   "execution_count": null,
   "metadata": {},
   "outputs": [],
   "source": []
  }
 ],
 "metadata": {
  "kernelspec": {
   "display_name": "Python [conda env:myuvcdat-Jan-2018]",
   "language": "python",
   "name": "conda-env-myuvcdat-Jan-2018-py"
  },
  "language_info": {
   "codemirror_mode": {
    "name": "ipython",
    "version": 2
   },
   "file_extension": ".py",
   "mimetype": "text/x-python",
   "name": "python",
   "nbconvert_exporter": "python",
   "pygments_lexer": "ipython2",
   "version": "2.7.14"
  }
 },
 "nbformat": 4,
 "nbformat_minor": 2
}
