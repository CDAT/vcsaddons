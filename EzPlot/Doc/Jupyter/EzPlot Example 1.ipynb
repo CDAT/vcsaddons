{
 "cells": [
  {
   "cell_type": "code",
   "execution_count": 1,
   "metadata": {},
   "outputs": [],
   "source": [
    "import os\n",
    "import vcs\n",
    "import cdms2\n",
    "import vcsaddons.EzPlot\n",
    "import cdutil\n",
    "\n",
    "# Simple Plot with EzPlot\n",
    "\n",
    "if __name__ == \"__main__\":\n",
    "    \n",
    "    variables = [[1, 2, 3, 4, 3, 2, 1]]\n",
    "\n",
    "    plotfunction = vcsaddons.EzPlot.EzLinePlot(defaultgridcolor=[(50, 50, 50, 50)])\n",
    "\n",
    "    canvas = vcs.init()\n",
    "\n",
    "    # Customize the lines used to draw the plots\n",
    "    line_type  = [\"solid\"]\n",
    "    line_widths = [5]\n",
    "\n",
    "    # Customize the markers drawn\n",
    "    marker_type = [None]\n",
    "\n",
    "    # Customize Legend Text\n",
    "    legend_texts = [\"Test Line\"]\n",
    "    legend_text_colors = ['black']\n",
    "\n",
    "    marker = vcs.createmarker()\n",
    "    marker.size = 6\n",
    "    marker.color = [\"black\", \"black\"]\n",
    "    marker.type = [\"triangle_up\", \"triangle_down\"]\n",
    "\n",
    "\n",
    "    d = plotfunction.lineplot(data=variables, canvas=canvas, title=\"Simple EzLinePlot\", titlesize=25,\n",
    "                            autoxaxis=True, autoyaxis=True,\n",
    "                            marker=marker, bottom_label=\"Non-dimensional values\", horizontallabelsize=20,\n",
    "                            legendtextcolors=legend_text_colors, legendtexts=legend_texts,\n",
    "                            enablegrid=True, legendbackgroundcolor=\"white\")\n",
    "    \n",
    "    canvas.png(\"EzPlot_Simple\")"
   ]
  },
  {
   "cell_type": "code",
   "execution_count": null,
   "metadata": {},
   "outputs": [],
   "source": []
  }
 ],
 "metadata": {
  "kernelspec": {
   "display_name": "Python [conda env:myuvcdat-Jan-2018]",
   "language": "python",
   "name": "conda-env-myuvcdat-Jan-2018-py"
  },
  "language_info": {
   "codemirror_mode": {
    "name": "ipython",
    "version": 2
   },
   "file_extension": ".py",
   "mimetype": "text/x-python",
   "name": "python",
   "nbconvert_exporter": "python",
   "pygments_lexer": "ipython2",
   "version": "2.7.14"
  }
 },
 "nbformat": 4,
 "nbformat_minor": 2
}
